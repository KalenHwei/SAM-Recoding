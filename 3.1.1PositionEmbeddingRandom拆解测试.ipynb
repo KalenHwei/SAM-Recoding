{
 "cells": [
  {
   "cell_type": "code",
   "execution_count": 19,
   "id": "dac8747c-2096-4c4e-805f-49e06afeaafc",
   "metadata": {},
   "outputs": [],
   "source": [
    "import torch\n",
    "import torch.nn as nn\n",
    "import numpy as np"
   ]
  },
  {
   "cell_type": "code",
   "execution_count": 35,
   "id": "6fd05b8d-21dc-4e7e-a00d-bee75eac0e7f",
   "metadata": {},
   "outputs": [
    {
     "name": "stdout",
     "output_type": "stream",
     "text": [
      "torch.Size([2, 64])\n"
     ]
    }
   ],
   "source": [
    "# 0 由于是类外，因此提前定义好超参和positional_encoding_gaussian_matrix\n",
    "num_pos_feats = 64\n",
    "positional_encoding_gaussian_matrix = torch.randn((2, num_pos_feats))\n",
    "print(positional_encoding_gaussian_matrix.shape)"
   ]
  },
  {
   "cell_type": "code",
   "execution_count": 37,
   "id": "ff7174c4-5efd-45f2-b779-f3504905d793",
   "metadata": {},
   "outputs": [],
   "source": [
    "# 1 对输入的坐标做位置编码，要求输入坐标已经标准化在[0,1]之间\n",
    "\n",
    "def position_embedding_encoding(coords): # shape = [d1, d2, ..., 2]，前面的dx是网格，最后一个2存储的是点坐标，例如[0.1, 0.3]，前面的所有维度是用来储存点坐标的列表，例如[batch_size, N, 2] = [3, 3, 2]\n",
    "        coords = 2 * coords - 1 # 将coords的范围从[0,1]放缩到[-1,1]\n",
    "        coords = coords @ positional_encoding_gaussian_matrix # 例如[16, 16, 2] * [2, 64] = [16, 16, 64]\n",
    "        coords = 2 * np.pi * coords # shape = [16, 16, 64]不变\n",
    "    \n",
    "        return torch.cat([torch.sin(coords), torch.cos(coords)], dim=-1) # 放进sin和cos之后沿着最后一个维度拼成一个新的张量，shape = [3, 3, 128]"
   ]
  },
  {
   "cell_type": "code",
   "execution_count": 39,
   "id": "3cdc6358-9473-4d05-9d37-afbaf93ab5eb",
   "metadata": {},
   "outputs": [],
   "source": [
    "# 2 定义forward函数\n",
    "\n",
    "def forward(size): # 假设size = (16, 16)\n",
    "    h, w = size # h=16， w=16\n",
    "    grid = torch.ones((h, w), dtype=torch.float32) # 生成一个(16, 16)的全为1的矩阵，命名为grid\n",
    "    y_embed = grid.cumsum(dim=0) - 0.5 # y轴坐标embedding为grid按列累加并减0.5，即每一列为[0.5, 1.5, ..., 15.5]，shape = (16, 16)\n",
    "    x_embed = grid.cumsum(dim=1) - 0.5 # x轴坐标embedding为grid按行累加并减0.5，即每一行为[0.5, 1.5, ..., 15.5]，shape = (16, 16)\n",
    "    y_embed = y_embed / h # 标准化，使其规范为[0, 1]之间，shape = (16, 16)\n",
    "    x_embed = x_embed / w # 标准化，使其规范为[0, 1]之间，shape = (16, 16)\n",
    "\n",
    "    coords = torch.stack([x_embed, y_embed], dim=-1) # 在最后一列创建一个新的维度，然后stack在一起，shape为[16, 16, 2]，这个也就是输入点坐标的位置编码，最后一个2存储标准化后的点坐标\n",
    "    position_embedding = position_embedding_encoding(coords) # 再传入position_embedding_encoding做位置编码，得到[16, 16, 128]\n",
    "    return position_embedding.permute(2, 0, 1)  # 调整为[128, 16, 16]"
   ]
  },
  {
   "cell_type": "code",
   "execution_count": 41,
   "id": "77ce96aa-8a93-477a-8a85-394b63287c60",
   "metadata": {},
   "outputs": [
    {
     "name": "stdout",
     "output_type": "stream",
     "text": [
      "torch.Size([128, 16, 16])\n"
     ]
    }
   ],
   "source": [
    "# 2.2 测试forward函数\n",
    "# 假设size = (16, 16)\n",
    "size = (16, 16)\n",
    "output_from_forward = forward(size)\n",
    "print(output_from_forward.shape)"
   ]
  },
  {
   "cell_type": "code",
   "execution_count": 43,
   "id": "073d106d-88d3-4373-bad0-7aa81921b275",
   "metadata": {},
   "outputs": [],
   "source": [
    "# 3 定义forward_with_coords函数\n",
    "\n",
    "def forward_with_coords(coords_input, image_size):\n",
    "        \"\"\"Positionally encode points that are not normalized to [0,1].\"\"\"\n",
    "        coords = coords_input.clone()\n",
    "        coords[:, :, 0] = coords[:, :, 0] / image_size[1]\n",
    "        coords[:, :, 1] = coords[:, :, 1] / image_size[0]\n",
    "        return position_embedding_encoding(coords.to(torch.float))  # B x N x C"
   ]
  },
  {
   "cell_type": "code",
   "execution_count": 45,
   "id": "a3d94b86-cb85-481d-a550-b72764505c02",
   "metadata": {},
   "outputs": [
    {
     "name": "stdout",
     "output_type": "stream",
     "text": [
      "torch.Size([2, 3, 128])\n"
     ]
    }
   ],
   "source": [
    "# 3.3 测试forward_with_coords函数\n",
    "\n",
    "# 假设batch_size = 2，N = 3\n",
    "# 即有2个batch，每个batch有3个样本，\n",
    "# 第一批分别为 (50, 50), (100, 100), (150, 150)\n",
    "# 第二批分别为(30, 40), (70, 80), (110, 120)\n",
    "coords_input = torch.tensor([[[50, 50], [100, 100], [150, 150]], [[30, 40], [70, 80], [110, 120]]]) # shape = (2, 3, 2)\n",
    "image_size = (100, 200)\n",
    "\n",
    "encoded_coords = forward_with_coords(coords_input, image_size)\n",
    "print(encoded_coords.shape)  # 输出shape = (2, 3, 128)"
   ]
  }
 ],
 "metadata": {
  "kernelspec": {
   "display_name": "Python 3 (ipykernel)",
   "language": "python",
   "name": "python3"
  },
  "language_info": {
   "codemirror_mode": {
    "name": "ipython",
    "version": 3
   },
   "file_extension": ".py",
   "mimetype": "text/x-python",
   "name": "python",
   "nbconvert_exporter": "python",
   "pygments_lexer": "ipython3",
   "version": "3.11.7"
  }
 },
 "nbformat": 4,
 "nbformat_minor": 5
}
