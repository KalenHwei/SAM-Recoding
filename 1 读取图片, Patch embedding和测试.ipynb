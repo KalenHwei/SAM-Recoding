{
 "cells": [
  {
   "cell_type": "code",
   "execution_count": 1,
   "id": "98006a82-73e9-4ac4-9fc2-7ccf6b2b5ccf",
   "metadata": {},
   "outputs": [],
   "source": [
    "import torch\n",
    "import torch.nn as nn\n",
    "from torchvision import transforms\n",
    "from PIL import Image\n",
    "from typing import Optional, Tuple, Type"
   ]
  },
  {
   "cell_type": "code",
   "execution_count": 5,
   "id": "3c53ae13-e490-4ad7-a488-9d02c022a8b9",
   "metadata": {},
   "outputs": [],
   "source": [
    "# 定义Patch Embedding类，用卷积做\n",
    "\n",
    "class PatchEmbed(nn.Module):\n",
    "    def __init__(\n",
    "            self, \n",
    "            kernel_size: Tuple[int, int] = (16, 16),\n",
    "            stride: Tuple[int, int] = (16, 16),\n",
    "            padding: Tuple[int, int] = (0, 0),\n",
    "            in_chans: int = 3,\n",
    "            embed_dim: int = 768,\n",
    "    ) -> None:\n",
    "        super().__init__()\n",
    "        \n",
    "        self.projection = nn.Conv2d(in_channels=in_chans, out_channels=embed_dim, kernel_size=kernel_size, stride=stride, padding=padding)\n",
    "        \n",
    "    def forward(self, x: torch.Tensor) -> torch.Tensor: # x:torch.Tensor表示输入x是Tensor，括号外面的-> torch.Tensor指函数返回值也是tensor\n",
    "        x = self.projection(x)\n",
    "        x = x.permute(0, 2, 3, 1) # 交换维度，即：(B C H W) -> (B H W C)\n",
    "        return x"
   ]
  },
  {
   "cell_type": "code",
   "execution_count": 7,
   "id": "719b35a1-0f72-4699-b4c1-02dfe94b609e",
   "metadata": {},
   "outputs": [],
   "source": [
    "# 读入照片来测试\n",
    "image = Image.open('/Users/kalen/Desktop/Python_env/segment-anything/cat2.jpg')"
   ]
  },
  {
   "cell_type": "code",
   "execution_count": 13,
   "id": "b586d67d-109f-4d8f-be63-0448379f3163",
   "metadata": {},
   "outputs": [
    {
     "name": "stdout",
     "output_type": "stream",
     "text": [
      "torch.Size([1, 16, 16, 768])\n"
     ]
    }
   ],
   "source": [
    "# 先将照片下采样、张量化，然后再用定义的PatchEmbed完成图像嵌入化\n",
    "\n",
    "tensorlizer = transforms.Compose([transforms.Resize((256, 256)), transforms.ToTensor()]) # 实例化一个tensorlizer，先下采样，再转成Tensor\n",
    "patchembed = PatchEmbed()\n",
    "# #或自定义各个参数，即patch_embed = PatchEmbed(in_chans=3, embed_dim=768, kernel_size=(16, 16), stride=(16, 16), padding=(0, 0))\n",
    "\n",
    "image_tensor = tensorlizer(image) # shape = (C H W)\n",
    "image_tensor = image_tensor.unsqueeze(0) # shape = (1 C H W),其中1 = B = batch_size\n",
    "output = patchembed(image_tensor) # shape = (B H W C)\n",
    "print(output.shape)"
   ]
  }
 ],
 "metadata": {
  "kernelspec": {
   "display_name": "Python 3 (ipykernel)",
   "language": "python",
   "name": "python3"
  },
  "language_info": {
   "codemirror_mode": {
    "name": "ipython",
    "version": 3
   },
   "file_extension": ".py",
   "mimetype": "text/x-python",
   "name": "python",
   "nbconvert_exporter": "python",
   "pygments_lexer": "ipython3",
   "version": "3.11.7"
  }
 },
 "nbformat": 4,
 "nbformat_minor": 5
}
