{
 "cells": [
  {
   "cell_type": "code",
   "execution_count": 6,
   "id": "b2d67b33-2320-4642-863f-fad83f65d7ab",
   "metadata": {},
   "outputs": [],
   "source": [
    "import torch\n",
    "import torch.nn as nn\n",
    "from torchvision import transforms\n",
    "from PIL import Image\n",
    "from typing import Optional, Tuple, Type"
   ]
  },
  {
   "cell_type": "code",
   "execution_count": 10,
   "id": "8c2e20b2-9efb-4e1e-950c-a75f83d6a4cb",
   "metadata": {},
   "outputs": [],
   "source": [
    "# 1 定义MLP块\n",
    "class MLPBlock(nn.Module):\n",
    "    def __init__(\n",
    "        self,\n",
    "        embedding_dim: int,\n",
    "        mlp_dim: int,\n",
    "        act: Type[nn.Module] = nn.GELU,\n",
    "    ) -> None:\n",
    "        super().__init__()\n",
    "        self.lin1 = nn.Linear(embedding_dim, mlp_dim)\n",
    "        self.lin2 = nn.Linear(mlp_dim, embedding_dim)\n",
    "        self.act = act()\n",
    "\n",
    "    def forward(self, x: torch.Tensor) -> torch.Tensor:\n",
    "        return self.lin2(self.act(self.lin1(x)))"
   ]
  },
  {
   "cell_type": "code",
   "execution_count": 16,
   "id": "134e098f-81f3-4e02-bd4a-be2329207fcd",
   "metadata": {},
   "outputs": [],
   "source": [
    "# 2 定义LayerNorm块\n",
    "class LayerNorm2d(nn.Module):\n",
    "    def __init__(self, num_channels: int, eps: float = 1e-6) -> None:\n",
    "        super().__init__()\n",
    "        self.weight = nn.Parameter(torch.ones(num_channels))\n",
    "        self.bias = nn.Parameter(torch.zeros(num_channels))\n",
    "        self.eps = eps\n",
    "\n",
    "    def forward(self, x: torch.Tensor) -> torch.Tensor:\n",
    "        u = x.mean(1, keepdim=True)\n",
    "        s = (x - u).pow(2).mean(1, keepdim=True)\n",
    "        x = (x - u) / torch.sqrt(s + self.eps)\n",
    "        x = self.weight[:, None, None] * x + self.bias[:, None, None]\n",
    "        return x"
   ]
  },
  {
   "cell_type": "code",
   "execution_count": 20,
   "id": "1072dff7-b9a7-4f56-861b-0e01de030f40",
   "metadata": {},
   "outputs": [],
   "source": [
    "# 3 定义Patch Embedding类，用卷积做\n",
    "class PatchEmbed(nn.Module):\n",
    "    def __init__(\n",
    "            self, \n",
    "            kernel_size: Tuple[int, int] = (16, 16),\n",
    "            stride: Tuple[int, int] = (16, 16),\n",
    "            padding: Tuple[int, int] = (0, 0),\n",
    "            in_chans: int = 3,\n",
    "            embed_dim: int = 768,\n",
    "    ) -> None:\n",
    "        super().__init__()\n",
    "        \n",
    "        self.projection = nn.Conv2d(in_channels=in_chans, out_channels=embed_dim, kernel_size=kernel_size, stride=stride, padding=padding)\n",
    "        \n",
    "    def forward(self, x: torch.Tensor) -> torch.Tensor: # x:torch.Tensor表示输入x是Tensor，括号外面的-> torch.Tensor指函数返回值也是tensor\n",
    "        x = self.projection(x)\n",
    "        x = x.permute(0, 2, 3, 1) # 交换维度，即：(B C H W) -> (B H W C)\n",
    "        return x"
   ]
  },
  {
   "cell_type": "code",
   "execution_count": 24,
   "id": "d9248cca-2ff4-4d47-80b5-10d7b0055659",
   "metadata": {},
   "outputs": [
    {
     "name": "stdout",
     "output_type": "stream",
     "text": [
      "torch.Size([1, 16, 16, 768])\n"
     ]
    }
   ],
   "source": [
    "# 3.1 Patch Embedding的读入图片测试\n",
    "image = Image.open('/Users/kalen/Desktop/Python_env/segment-anything/cat2.jpg')\n",
    "\n",
    "# 创建PatchEmbed实例\n",
    "patch_embed = PatchEmbed() # 调用默认值\n",
    "#或自定义各个参数，即patch_embed = PatchEmbed(in_chans=3, embed_dim=768, kernel_size=(16, 16), stride=(16, 16), padding=(0, 0))\n",
    "transform = transforms.Compose([transforms.Resize((256, 256)),\n",
    "                                transforms.ToTensor()\n",
    "                                ])\n",
    "\n",
    "image_tensor = transform(image)\n",
    "image_tensor = image_tensor.unsqueeze(0)\n",
    "output = patch_embed(image_tensor)\n",
    "print(output.shape) #  shape = (B H W C)"
   ]
  },
  {
   "cell_type": "code",
   "execution_count": null,
   "id": "f30cf2d2-1462-4698-bde2-079b98de1110",
   "metadata": {},
   "outputs": [],
   "source": [
    "#unfin"
   ]
  }
 ],
 "metadata": {
  "kernelspec": {
   "display_name": "Python 3 (ipykernel)",
   "language": "python",
   "name": "python3"
  },
  "language_info": {
   "codemirror_mode": {
    "name": "ipython",
    "version": 3
   },
   "file_extension": ".py",
   "mimetype": "text/x-python",
   "name": "python",
   "nbconvert_exporter": "python",
   "pygments_lexer": "ipython3",
   "version": "3.11.7"
  }
 },
 "nbformat": 4,
 "nbformat_minor": 5
}
